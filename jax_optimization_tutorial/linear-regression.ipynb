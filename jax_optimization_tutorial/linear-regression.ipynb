{
 "cells": [
  {
   "cell_type": "markdown",
   "id": "3387e989",
   "metadata": {},
   "source": [
    "# Linear Regression with JAX\n",
    "Source: https://danielrothenberg.com/blog/2020/Sep/jax-first-steps-pt1/"
   ]
  },
  {
   "cell_type": "code",
   "execution_count": 11,
   "id": "36893279",
   "metadata": {},
   "outputs": [
    {
     "name": "stdout",
     "output_type": "stream",
     "text": [
      "The autoreload extension is already loaded. To reload it, use:\n",
      "  %reload_ext autoreload\n"
     ]
    }
   ],
   "source": [
    "%load_ext autoreload\n",
    "%autoreload 2\n",
    "\n",
    "%matplotlib inline\n",
    "import matplotlib.pyplot as plt\n",
    "\n",
    "import numpy as np\n",
    "import jax.numpy as jnp"
   ]
  },
  {
   "cell_type": "code",
   "execution_count": 2,
   "id": "565bff63",
   "metadata": {},
   "outputs": [],
   "source": [
    "from jax import random\n",
    "\n",
    "def make_key():\n",
    "    \"\"\" Helper function to generate a key for jax's parallel PRNG \n",
    "    using standard numpy random functions. \n",
    "\n",
    "    \"\"\"\n",
    "    seed = np.random.randint(2**16 - 1)\n",
    "    return random.PRNGKey(seed)\n",
    "\n",
    "n = 100\n",
    "rands = random.uniform(make_key(), shape=(n, ), minval=-1, maxval=1)"
   ]
  },
  {
   "cell_type": "code",
   "execution_count": 3,
   "id": "11fa0b53",
   "metadata": {},
   "outputs": [
    {
     "name": "stdout",
     "output_type": "stream",
     "text": [
      "[[1. 1.]\n",
      " [1. 1.]\n",
      " [1. 1.]\n",
      " [1. 1.]\n",
      " [1. 1.]\n",
      " [1. 1.]\n",
      " [1. 1.]\n",
      " [1. 1.]\n",
      " [1. 1.]\n",
      " [1. 1.]\n",
      " [1. 1.]\n",
      " [1. 1.]\n",
      " [1. 1.]\n",
      " [1. 1.]\n",
      " [1. 1.]\n",
      " [1. 1.]\n",
      " [1. 1.]\n",
      " [1. 1.]\n",
      " [1. 1.]\n",
      " [1. 1.]\n",
      " [1. 1.]\n",
      " [1. 1.]\n",
      " [1. 1.]\n",
      " [1. 1.]\n",
      " [1. 1.]\n",
      " [1. 1.]\n",
      " [1. 1.]\n",
      " [1. 1.]\n",
      " [1. 1.]\n",
      " [1. 1.]\n",
      " [1. 1.]\n",
      " [1. 1.]\n",
      " [1. 1.]\n",
      " [1. 1.]\n",
      " [1. 1.]\n",
      " [1. 1.]\n",
      " [1. 1.]\n",
      " [1. 1.]\n",
      " [1. 1.]\n",
      " [1. 1.]\n",
      " [1. 1.]\n",
      " [1. 1.]\n",
      " [1. 1.]\n",
      " [1. 1.]\n",
      " [1. 1.]\n",
      " [1. 1.]\n",
      " [1. 1.]\n",
      " [1. 1.]\n",
      " [1. 1.]\n",
      " [1. 1.]\n",
      " [1. 1.]\n",
      " [1. 1.]\n",
      " [1. 1.]\n",
      " [1. 1.]\n",
      " [1. 1.]\n",
      " [1. 1.]\n",
      " [1. 1.]\n",
      " [1. 1.]\n",
      " [1. 1.]\n",
      " [1. 1.]\n",
      " [1. 1.]\n",
      " [1. 1.]\n",
      " [1. 1.]\n",
      " [1. 1.]\n",
      " [1. 1.]\n",
      " [1. 1.]\n",
      " [1. 1.]\n",
      " [1. 1.]\n",
      " [1. 1.]\n",
      " [1. 1.]\n",
      " [1. 1.]\n",
      " [1. 1.]\n",
      " [1. 1.]\n",
      " [1. 1.]\n",
      " [1. 1.]\n",
      " [1. 1.]\n",
      " [1. 1.]\n",
      " [1. 1.]\n",
      " [1. 1.]\n",
      " [1. 1.]\n",
      " [1. 1.]\n",
      " [1. 1.]\n",
      " [1. 1.]\n",
      " [1. 1.]\n",
      " [1. 1.]\n",
      " [1. 1.]\n",
      " [1. 1.]\n",
      " [1. 1.]\n",
      " [1. 1.]\n",
      " [1. 1.]\n",
      " [1. 1.]\n",
      " [1. 1.]\n",
      " [1. 1.]\n",
      " [1. 1.]\n",
      " [1. 1.]\n",
      " [1. 1.]\n",
      " [1. 1.]\n",
      " [1. 1.]\n",
      " [1. 1.]\n",
      " [1. 1.]]\n",
      "[[ 0.56719136  1.        ]\n",
      " [ 0.90619564  1.        ]\n",
      " [ 0.8181107   1.        ]\n",
      " [-0.07588315  1.        ]\n",
      " [ 0.65934706  1.        ]\n",
      " [ 0.70064425  1.        ]\n",
      " [ 0.28244472  1.        ]\n",
      " [-0.07778668  1.        ]\n",
      " [ 0.9808245   1.        ]\n",
      " [ 0.05257344  1.        ]\n",
      " [-0.38835692  1.        ]\n",
      " [ 0.74025965  1.        ]\n",
      " [-0.8808477   1.        ]\n",
      " [-0.80188036  1.        ]\n",
      " [ 0.7314439   1.        ]\n",
      " [-0.69432974  1.        ]\n",
      " [ 0.6456201   1.        ]\n",
      " [-0.13038063  1.        ]\n",
      " [ 0.7454684   1.        ]\n",
      " [-0.17364717  1.        ]\n",
      " [ 0.8420925   1.        ]\n",
      " [ 0.32458067  1.        ]\n",
      " [-0.23971272  1.        ]\n",
      " [-0.841902    1.        ]\n",
      " [-0.9334514   1.        ]\n",
      " [ 0.8027196   1.        ]\n",
      " [-0.76277256  1.        ]\n",
      " [-0.3472433   1.        ]\n",
      " [-0.18131876  1.        ]\n",
      " [-0.81412005  1.        ]\n",
      " [ 0.742816    1.        ]\n",
      " [ 0.29102564  1.        ]\n",
      " [-0.12259459  1.        ]\n",
      " [ 0.7445142   1.        ]\n",
      " [ 0.4648075   1.        ]\n",
      " [ 0.97792006  1.        ]\n",
      " [ 0.98037124  1.        ]\n",
      " [-0.74772596  1.        ]\n",
      " [-0.9600477   1.        ]\n",
      " [ 0.29590702  1.        ]\n",
      " [ 0.8539684   1.        ]\n",
      " [ 0.7292776   1.        ]\n",
      " [-0.35773468  1.        ]\n",
      " [ 0.06983089  1.        ]\n",
      " [-0.1719327   1.        ]\n",
      " [ 0.3244648   1.        ]\n",
      " [-0.66061735  1.        ]\n",
      " [-0.9326389   1.        ]\n",
      " [-0.48183155  1.        ]\n",
      " [ 0.60397077  1.        ]\n",
      " [-0.24433494  1.        ]\n",
      " [ 0.9065745   1.        ]\n",
      " [-0.53917074  1.        ]\n",
      " [-0.26952457  1.        ]\n",
      " [-0.03242016  1.        ]\n",
      " [-0.6970415   1.        ]\n",
      " [-0.8621006   1.        ]\n",
      " [ 0.64250565  1.        ]\n",
      " [ 0.3600428   1.        ]\n",
      " [ 0.1736505   1.        ]\n",
      " [ 0.8175428   1.        ]\n",
      " [-0.4976089   1.        ]\n",
      " [ 0.99707437  1.        ]\n",
      " [ 0.61124754  1.        ]\n",
      " [ 0.4626403   1.        ]\n",
      " [ 0.7739856   1.        ]\n",
      " [ 0.18812919  1.        ]\n",
      " [ 0.9244573   1.        ]\n",
      " [ 0.55314875  1.        ]\n",
      " [ 0.99845624  1.        ]\n",
      " [ 0.9773083   1.        ]\n",
      " [ 0.87139964  1.        ]\n",
      " [ 0.32497478  1.        ]\n",
      " [ 0.76745677  1.        ]\n",
      " [-0.75871634  1.        ]\n",
      " [-0.10237694  1.        ]\n",
      " [-0.10543108  1.        ]\n",
      " [-0.19929266  1.        ]\n",
      " [-0.67447877  1.        ]\n",
      " [-0.54395914  1.        ]\n",
      " [ 0.4002776   1.        ]\n",
      " [-0.7200577   1.        ]\n",
      " [ 0.17349315  1.        ]\n",
      " [ 0.5890646   1.        ]\n",
      " [ 0.32220316  1.        ]\n",
      " [ 0.870471    1.        ]\n",
      " [-0.4356978   1.        ]\n",
      " [-0.54046607  1.        ]\n",
      " [ 0.60255     1.        ]\n",
      " [ 0.08106732  1.        ]\n",
      " [ 0.7314334   1.        ]\n",
      " [-0.59192777  1.        ]\n",
      " [-0.43610024  1.        ]\n",
      " [ 0.36425257  1.        ]\n",
      " [-0.91518784  1.        ]\n",
      " [ 0.3074093   1.        ]\n",
      " [-0.43152308  1.        ]\n",
      " [-0.32482266  1.        ]\n",
      " [ 0.7852454   1.        ]\n",
      " [ 0.57705736  1.        ]]\n"
     ]
    }
   ],
   "source": [
    "# We have to use functions to update an array unlike numpy as JAX does not mutate arrays in-place\n",
    "\n",
    "x = jnp.ones((n, 2))\n",
    "print(x)\n",
    "x = x.at[:, 0].set(rands)\n",
    "print(x)"
   ]
  },
  {
   "cell_type": "markdown",
   "id": "a9a1e2fb",
   "metadata": {},
   "source": [
    "# Simple first model\n",
    "\n",
    "$$\n",
    "    y = X\\beta + \\epsilon\n",
    "$$\n",
    "\n",
    "where $\\beta = [\\beta_0, \\beta_1]$ where $\\beta_0$ is an offset bias and $\\beta_1$ a relating x and y, and $\\epsilon$ is an uncorrelated noise modeled as a normal distribution, $\\mathcal{N}(0, 1)$."
   ]
  },
  {
   "cell_type": "code",
   "execution_count": 4,
   "id": "7bf67529",
   "metadata": {},
   "outputs": [],
   "source": [
    "# Fix our true slope and bias\n",
    "slope, bias = 3.0, 2.0\n",
    "beta_true = jnp.array((slope, bias))\n",
    "eps = random.normal(make_key(), shape=(n,))"
   ]
  },
  {
   "cell_type": "code",
   "execution_count": 5,
   "id": "5a6d3ce8",
   "metadata": {},
   "outputs": [],
   "source": [
    "y = (x @ beta_true) + eps"
   ]
  },
  {
   "cell_type": "code",
   "execution_count": 6,
   "id": "462c84ec",
   "metadata": {},
   "outputs": [
    {
     "data": {
      "text/plain": [
       "<matplotlib.collections.PathCollection at 0x7fbd01976f40>"
      ]
     },
     "execution_count": 6,
     "metadata": {},
     "output_type": "execute_result"
    },
    {
     "data": {
      "image/png": "[encoded data removed]",
      "text/plain": [
       "<Figure size 432x288 with 1 Axes>"
      ]
     },
     "metadata": {
      "needs_background": "light"
     },
     "output_type": "display_data"
    }
   ],
   "source": [
    "plt.scatter(x[:,0], y)"
   ]
  },
  {
   "cell_type": "markdown",
   "id": "547a51fd",
   "metadata": {},
   "source": [
    "# Analytical Model Fitting\n",
    "\n",
    "\n",
    "If the problem is simple enough, we can find a closed form analytical solution to the problem. We seek to find the $\\beta$ that predicts the relationship between x and y. If we use $\\mathcal{L}(\\beta)=||\\mathbf{X}\\beta-\\mathbf{Y}||$, the analytical solution is:\n",
    "\n",
    "$$\n",
    "    \\frac{\\partial \\mathcal{L}(\\beta)}{\\partial \\beta} = -2 \\mathbf{Y}^T\\mathbf{X}+2\\beta^T\\mathbf{X}^T\\mathbf{X}\n",
    "$$\n",
    "\n",
    "And solving for 0 gives:\n",
    "\n",
    "$$\n",
    "\\beta = (\\mathbf{X}^T\\mathbf{X})^{-1}\\mathbf{X}^T\\mathbf{Y}\n",
    "$$"
   ]
  },
  {
   "cell_type": "code",
   "execution_count": 7,
   "id": "61ad3658",
   "metadata": {},
   "outputs": [
    {
     "name": "stdout",
     "output_type": "stream",
     "text": [
      "[3.0753026 1.8672338]\n"
     ]
    }
   ],
   "source": [
    "beta_ols = jnp.linalg.inv(x.T @ x) @ (x.T @ y)\n",
    "print(beta_ols)"
   ]
  },
  {
   "cell_type": "code",
   "execution_count": 8,
   "id": "2430ba06",
   "metadata": {},
   "outputs": [
    {
     "data": {
      "image/png": "[encoded data removed]",
      "text/plain": [
       "<Figure size 432x288 with 1 Axes>"
      ]
     },
     "metadata": {
      "needs_background": "light"
     },
     "output_type": "display_data"
    }
   ],
   "source": [
    "plt.scatter(x[:, 0], y)\n",
    "\n",
    "xs = np.linspace(-1, 1)\n",
    "xs = np.stack([xs, np.ones_like(xs)], axis=1)\n",
    "ys_true = xs@beta_true\n",
    "ys_fit = xs@beta_ols\n",
    "plt.plot(xs[:, 0], ys_true, color='k', lw=2, label=\"True\")\n",
    "plt.plot(xs[:, 0], ys_fit, color='orange', lw=1, label='OLS fit')\n",
    "plt.legend();"
   ]
  },
  {
   "cell_type": "markdown",
   "id": "380ba33a",
   "metadata": {},
   "source": [
    "# Gradient Descent\n",
    "\n",
    "Minimize the error metric, in this case MSE:\n",
    "$$\n",
    "    MSE = \\frac{1}{n}\\Sigma^n_{i=1}(\\hat{y_i}-y_i)^2\n",
    "$$"
   ]
  },
  {
   "cell_type": "code",
   "execution_count": 12,
   "id": "cbd1bd0d",
   "metadata": {},
   "outputs": [],
   "source": [
    "def mse(y_hat, y): return jnp.power(y_hat - y, 2).mean()"
   ]
  },
  {
   "cell_type": "code",
   "execution_count": 13,
   "id": "97540a87",
   "metadata": {},
   "outputs": [
    {
     "name": "stdout",
     "output_type": "stream",
     "text": [
      "9.145107\n"
     ]
    }
   ],
   "source": [
    "test = jnp.array([-1., 1.])\n",
    "print(mse(x@test, y))"
   ]
  },
  {
   "cell_type": "markdown",
   "id": "699cb172",
   "metadata": {},
   "source": [
    "Now we can use the power of JAX for automatic differentiation"
   ]
  },
  {
   "cell_type": "code",
   "execution_count": 14,
   "id": "5c497e02",
   "metadata": {},
   "outputs": [],
   "source": [
    "from jax import grad"
   ]
  },
  {
   "cell_type": "code",
   "execution_count": 15,
   "id": "48ec93e0",
   "metadata": {},
   "outputs": [],
   "source": [
    "def predict(beta, x): return x @ beta\n",
    "def loss_fn(beta, x, y=y): return mse(predict(beta, x), y)"
   ]
  },
  {
   "cell_type": "code",
   "execution_count": 16,
   "id": "0ab92e2f",
   "metadata": {},
   "outputs": [],
   "source": [
    "grad_loss_fn = grad(loss_fn, argnums=0)"
   ]
  },
  {
   "cell_type": "code",
   "execution_count": 17,
   "id": "4dad4a6b",
   "metadata": {},
   "outputs": [
    {
     "name": "stdout",
     "output_type": "stream",
     "text": [
      "[-1.  1.] [-3.3981533 -2.7396417]\n"
     ]
    }
   ],
   "source": [
    "print(test, grad_loss_fn(test, x))"
   ]
  },
  {
   "cell_type": "markdown",
   "id": "5ca4a041",
   "metadata": {},
   "source": [
    "We will find the optimal value of $\\beta$ by iteratively updating it with the old value subtracted by a learning rate times the derivative of the loss function w.r.t. $\\beta$, i.e.:\n",
    "\n",
    "$$\n",
    "    \\beta_{n+1} = \\beta_{n} - \\gamma \\frac{\\partial\\mathcal{L}(\\beta)}{\\partial\\beta}\n",
    "$$"
   ]
  },
  {
   "cell_type": "code",
   "execution_count": 18,
   "id": "af4d03ca",
   "metadata": {},
   "outputs": [],
   "source": [
    "def gradient_descent(beta, lr=1e-1, x=x, y=y): return beta - lr * grad_loss_fn(beta, x, y=y)"
   ]
  },
  {
   "cell_type": "code",
   "execution_count": 19,
   "id": "70d53e9e",
   "metadata": {},
   "outputs": [],
   "source": [
    "beta_gd = jnp.array([-1., 1.])\n",
    "lr = 5e-2"
   ]
  },
  {
   "cell_type": "code",
   "execution_count": 24,
   "id": "b2ec519b",
   "metadata": {},
   "outputs": [
    {
     "name": "stdout",
     "output_type": "stream",
     "text": [
      "0 [0.17539409 1.7678423 ]\n",
      "10 [1.766862  2.0548797]\n",
      "20 [2.4689775 1.9785113]\n",
      "30 [2.7926652 1.9215833]\n",
      "40 [2.9433815 1.8928522]\n",
      "50 [3.0137112 1.8792199]\n",
      "60 [3.0465453 1.8728325]\n",
      "converged -> relative error: 0.0009619885240681469)\n"
     ]
    }
   ],
   "source": [
    "for epoch in range(200):\n",
    "    if (epoch % 10) == 0: print(epoch, beta_gd)\n",
    "    \n",
    "    beta_new = gradient_descent(beta_gd)\n",
    "    \n",
    "    rel_err = np.sqrt(np.mean((beta_gd - beta_new)**2))\n",
    "    \n",
    "    if rel_err < 1e-3:\n",
    "        print(f\"converged -> relative error: {rel_err})\")\n",
    "        break\n",
    "        \n",
    "    beta_gd = beta_new"
   ]
  },
  {
   "cell_type": "code",
   "execution_count": 25,
   "id": "9cb25f99",
   "metadata": {},
   "outputs": [
    {
     "data": {
      "text/plain": [
       "DeviceArray([3.0570934, 1.8707792], dtype=float32)"
      ]
     },
     "execution_count": 25,
     "metadata": {},
     "output_type": "execute_result"
    }
   ],
   "source": [
    "beta_gd"
   ]
  },
  {
   "cell_type": "code",
   "execution_count": 26,
   "id": "079e59f7",
   "metadata": {},
   "outputs": [
    {
     "data": {
      "image/png": "[encoded data removed]",
      "text/plain": [
       "<Figure size 432x288 with 1 Axes>"
      ]
     },
     "metadata": {
      "needs_background": "light"
     },
     "output_type": "display_data"
    }
   ],
   "source": [
    "plt.scatter(x[:, 0], y)\n",
    "\n",
    "xs = np.linspace(-1, 1)\n",
    "xs = np.stack([xs, np.ones_like(xs)], axis=1)\n",
    "ys_true = xs@beta_true\n",
    "ys_fit = xs@beta_gd\n",
    "plt.plot(xs[:, 0], ys_true, color='k', lw=2, label=\"True\")\n",
    "plt.plot(xs[:, 0], ys_fit, color='orange', lw=1, label='Gradient Descent fit')\n",
    "plt.legend();"
   ]
  },
  {
   "cell_type": "code",
   "execution_count": null,
   "id": "a2afcb6e",
   "metadata": {},
   "outputs": [],
   "source": []
  }
 ],
 "metadata": {
  "kernelspec": {
   "display_name": "Python 3 (ipykernel)",
   "language": "python",
   "name": "python3"
  },
  "language_info": {
   "codemirror_mode": {
    "name": "ipython",
    "version": 3
   },
   "file_extension": ".py",
   "mimetype": "text/x-python",
   "name": "python",
   "nbconvert_exporter": "python",
   "pygments_lexer": "ipython3",
   "version": "3.9.4"
  }
 },
 "nbformat": 4,
 "nbformat_minor": 5
}
